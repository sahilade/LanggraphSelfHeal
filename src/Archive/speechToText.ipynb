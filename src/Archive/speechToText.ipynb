{
 "cells": [
  {
   "cell_type": "code",
   "execution_count": null,
   "id": "621917d7",
   "metadata": {},
   "outputs": [],
   "source": [
    "import streamlit as st\n",
    "from st_audiorec import st_audiorec\n",
    "st.title(\"Audio Recorder Example\")\n",
    "\n",
    "wav_audio_data = st_audiorec()\n",
    "\n",
    "if wav_audio_data is not None:\n",
    "    with open(\"output.wav\", \"wb\") as f:\n",
    "        f.write(wav_audio_data)\n",
    "    st.audio(wav_audio_data, format=\"audio/wav\")"
   ]
  },
  {
   "cell_type": "code",
   "execution_count": null,
   "id": "068cea2c",
   "metadata": {},
   "outputs": [],
   "source": []
  }
 ],
 "metadata": {
  "kernelspec": {
   "display_name": "PepLanggraph",
   "language": "python",
   "name": "python3"
  },
  "language_info": {
   "codemirror_mode": {
    "name": "ipython",
    "version": 3
   },
   "file_extension": ".py",
   "mimetype": "text/x-python",
   "name": "python",
   "nbconvert_exporter": "python",
   "pygments_lexer": "ipython3",
   "version": "3.12.4"
  }
 },
 "nbformat": 4,
 "nbformat_minor": 5
}
